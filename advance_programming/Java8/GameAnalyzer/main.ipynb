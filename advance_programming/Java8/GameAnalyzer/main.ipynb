{
 "cells": [
  {
   "attachments": {},
   "cell_type": "markdown",
   "metadata": {},
   "source": [
    "# Game Analyzer\n",
    "\n",
    "## Import Modules"
   ]
  },
  {
   "cell_type": "code",
   "execution_count": 60,
   "metadata": {},
   "outputs": [],
   "source": [
    "import pandas as pd\n",
    "import numpy as np\n",
    "from pandas import DataFrame\n",
    "import re\n",
    "import os"
   ]
  },
  {
   "attachments": {},
   "cell_type": "markdown",
   "metadata": {},
   "source": [
    "## Initializing DataFrame"
   ]
  },
  {
   "cell_type": "code",
   "execution_count": 61,
   "metadata": {},
   "outputs": [],
   "source": [
    "df = pd.read_csv('data/raw_games.csv')\n",
    "df = df.replace(['[]', 'releases on TBD'], [np.nan, np.nan])\n",
    "df = df.dropna()"
   ]
  },
  {
   "attachments": {},
   "cell_type": "markdown",
   "metadata": {},
   "source": [
    "## Generate Test DataFrames\n",
    "\n",
    "### Main DataFrame"
   ]
  },
  {
   "cell_type": "code",
   "execution_count": 62,
   "metadata": {},
   "outputs": [],
   "source": [
    "df['Genres'] = df['Genres'].apply(lambda x: '-'.join(map(lambda y: y[1:len(y) - 1], re.findall(r\"'[\\w& ]*'\", x))))\n",
    "df['Plays'] = df['Plays'].apply(lambda x: int(float(x[:len(x) - 1]) * 1000) if (x[-1] == 'K' or x[-1] == 'k') else int(x))\n",
    "df = df.loc[~df['Title'].str.contains(',')]\n",
    "df.to_csv('data/games.csv', index=False)"
   ]
  },
  {
   "attachments": {},
   "cell_type": "markdown",
   "metadata": {},
   "source": [
    "### TestReadFromCSV"
   ]
  },
  {
   "cell_type": "code",
   "execution_count": 63,
   "metadata": {},
   "outputs": [],
   "source": [
    "df = df.drop_duplicates()\n",
    "os.makedirs('solution', exist_ok=True)\n",
    "df.to_csv('solution/testReadFromCSV.csv', index=False)"
   ]
  },
  {
   "attachments": {},
   "cell_type": "markdown",
   "metadata": {},
   "source": [
    "### TestSortByRating"
   ]
  },
  {
   "cell_type": "code",
   "execution_count": 64,
   "metadata": {},
   "outputs": [],
   "source": [
    "df.sort_values(by=['Rating'], ascending=False).to_csv('solution/testSortByRating.csv', index=False)"
   ]
  },
  {
   "attachments": {},
   "cell_type": "markdown",
   "metadata": {},
   "source": [
    "### TestTopMostPlayedGames"
   ]
  },
  {
   "cell_type": "code",
   "execution_count": 65,
   "metadata": {},
   "outputs": [],
   "source": [
    "df[df['Plays'] >= 13000].sort_values(by=['Plays'], ascending=False).to_csv('solution/testTopMostPlayedGames.csv', index=False)"
   ]
  },
  {
   "attachments": {},
   "cell_type": "markdown",
   "metadata": {},
   "source": [
    "### TestCountReleasedGames"
   ]
  },
  {
   "cell_type": "code",
   "execution_count": 66,
   "metadata": {},
   "outputs": [
    {
     "name": "stdout",
     "output_type": "stream",
     "text": [
      "2023: 22\n",
      "2020: 51\n"
     ]
    }
   ],
   "source": [
    "print('2023:', len(df[df['Release Date'].str.contains(r'\\d*-\\w*-23')].index))\n",
    "print('2020:', len(df[df['Release Date'].str.contains(r'\\d*-\\w*-20')].index))"
   ]
  },
  {
   "attachments": {},
   "cell_type": "markdown",
   "metadata": {},
   "source": [
    "### TestInterestGenreInYear"
   ]
  },
  {
   "cell_type": "code",
   "execution_count": 79,
   "metadata": {},
   "outputs": [
    {
     "name": "stdout",
     "output_type": "stream",
     "text": [
      "2021: 42990\n",
      "2016: 62124\n",
      "2010: 167745\n"
     ]
    }
   ],
   "source": [
    "print('2021:', df[df['Release Date'].str.contains(r'\\d*-\\w*-21') & df['Genres'].str.contains('Shooter')].sum()['Plays'])\n",
    "print('2016:', df[df['Release Date'].str.contains(r'\\d*-\\w*-16') & df['Genres'].str.contains('Simulator')].sum()['Plays'])"
   ]
  },
  {
   "attachments": {},
   "cell_type": "markdown",
   "metadata": {},
   "source": [
    "### TestInterestGenreChangeWithinYears"
   ]
  },
  {
   "cell_type": "code",
   "execution_count": 89,
   "metadata": {},
   "outputs": [
    {
     "name": "stdout",
     "output_type": "stream",
     "text": [
      "2010 to 2019 Adventure: {'Plays': {10: 167745, 11: 236000, 12: 153292, 13: 284560, 14: 146924, 15: 212025, 16: 209248, 17: 266619, 18: 248054, 19: 264180}}\n",
      "expected.put(10, 103587);\n",
      "expected.put(11, 81500);\n",
      "expected.put(12, 94700);\n",
      "expected.put(13, 125700);\n",
      "expected.put(14, 85589);\n",
      "expected.put(15, 71300);\n",
      "expected.put(16, 115620);\n",
      "expected.put(17, 116700);\n",
      "expected.put(18, 41961);\n",
      "expected.put(19, 75300);\n",
      "expected.put(20, 67600);\n",
      "expected.put(21, 42990);\n",
      "expected.put(22, 21542);\n"
     ]
    }
   ],
   "source": [
    "date_edited = df.copy()\n",
    "date_edited['Release Date'] = date_edited['Release Date'].apply(lambda x: int(x.split('-')[2]))\n",
    "print('2010 to 2019 Adventure:', date_edited[(date_edited['Release Date'] < 20) & (date_edited['Release Date'] >= 10) & (date_edited['Genres'].str.contains('Adventure'))].groupby('Release Date').aggregate({'Plays': 'sum'}).to_dict())\n",
    "x = date_edited[(date_edited['Release Date'] < 23) & (date_edited['Release Date'] >= 10) & (date_edited['Genres'].str.contains('Shooter'))].groupby('Release Date').aggregate({'Plays': 'sum'}).to_dict()\n",
    "for k, v in x['Plays'].items():\n",
    "    print(f'expected.put({k}, {v});')"
   ]
  }
 ],
 "metadata": {
  "kernelspec": {
   "display_name": "Python 3",
   "language": "python",
   "name": "python3"
  },
  "language_info": {
   "codemirror_mode": {
    "name": "ipython",
    "version": 3
   },
   "file_extension": ".py",
   "mimetype": "text/x-python",
   "name": "python",
   "nbconvert_exporter": "python",
   "pygments_lexer": "ipython3",
   "version": "3.10.4"
  },
  "orig_nbformat": 4
 },
 "nbformat": 4,
 "nbformat_minor": 2
}
